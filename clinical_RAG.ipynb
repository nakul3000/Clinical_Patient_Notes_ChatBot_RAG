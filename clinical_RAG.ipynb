{
 "cells": [
  {
   "cell_type": "code",
   "execution_count": 2,
   "metadata": {},
   "outputs": [],
   "source": [
    "import openai\n",
    "import pandas as pd\n",
    "import chromadb\n",
    "from chromadb.config import Settings\n",
    "import streamlit as st\n",
    "import os\n",
    "from dotenv import load_dotenv\n",
    "from pathlib import Path\n",
    "# Set your OpenAI API key\n"
   ]
  },
  {
   "cell_type": "code",
   "execution_count": 3,
   "metadata": {},
   "outputs": [
    {
     "name": "stderr",
     "output_type": "stream",
     "text": [
      "c:\\Users\\nakul\\langchain_2\\myvenv\\lib\\site-packages\\tqdm\\auto.py:21: TqdmWarning: IProgress not found. Please update jupyter and ipywidgets. See https://ipywidgets.readthedocs.io/en/stable/user_install.html\n",
      "  from .autonotebook import tqdm as notebook_tqdm\n"
     ]
    },
    {
     "data": {
      "text/html": [
       "<div>\n",
       "<style scoped>\n",
       "    .dataframe tbody tr th:only-of-type {\n",
       "        vertical-align: middle;\n",
       "    }\n",
       "\n",
       "    .dataframe tbody tr th {\n",
       "        vertical-align: top;\n",
       "    }\n",
       "\n",
       "    .dataframe thead th {\n",
       "        text-align: right;\n",
       "    }\n",
       "</style>\n",
       "<table border=\"1\" class=\"dataframe\">\n",
       "  <thead>\n",
       "    <tr style=\"text-align: right;\">\n",
       "      <th></th>\n",
       "      <th>context</th>\n",
       "      <th>question</th>\n",
       "      <th>answers</th>\n",
       "    </tr>\n",
       "  </thead>\n",
       "  <tbody>\n",
       "    <tr>\n",
       "      <th>0</th>\n",
       "      <td>The patient was admitted on 5/5/2006 with a hi...</td>\n",
       "      <td>What is her current dose of lasix ( furosemide )</td>\n",
       "      <td>{'answer_end': [2598], 'answer_start': [2564],...</td>\n",
       "    </tr>\n",
       "    <tr>\n",
       "      <th>1</th>\n",
       "      <td>This 57-year-old female with a distant history...</td>\n",
       "      <td>Is the patient currently or have they ever tak...</td>\n",
       "      <td>{'answer_end': [541], 'answer_start': [532], '...</td>\n",
       "    </tr>\n",
       "    <tr>\n",
       "      <th>2</th>\n",
       "      <td>An 81-year-old woman with Atrial Fibrillation ...</td>\n",
       "      <td>Has a patient had morphine</td>\n",
       "      <td>{'answer_end': [1342], 'answer_start': [1319],...</td>\n",
       "    </tr>\n",
       "    <tr>\n",
       "      <th>3</th>\n",
       "      <td>A 59 year-old woman with metastatic breast can...</td>\n",
       "      <td>Why was tessalon perles ( benzonatate ) origin...</td>\n",
       "      <td>{'answer_end': [1007], 'answer_start': [988], ...</td>\n",
       "    </tr>\n",
       "    <tr>\n",
       "      <th>4</th>\n",
       "      <td>Ms. Elter is an 83-year-old Spanish-speaking f...</td>\n",
       "      <td>Is there history of use of allopurinol</td>\n",
       "      <td>{'answer_end': [539], 'answer_start': [475], '...</td>\n",
       "    </tr>\n",
       "  </tbody>\n",
       "</table>\n",
       "</div>"
      ],
      "text/plain": [
       "                                             context  \\\n",
       "0  The patient was admitted on 5/5/2006 with a hi...   \n",
       "1  This 57-year-old female with a distant history...   \n",
       "2  An 81-year-old woman with Atrial Fibrillation ...   \n",
       "3  A 59 year-old woman with metastatic breast can...   \n",
       "4  Ms. Elter is an 83-year-old Spanish-speaking f...   \n",
       "\n",
       "                                            question  \\\n",
       "0   What is her current dose of lasix ( furosemide )   \n",
       "1  Is the patient currently or have they ever tak...   \n",
       "2                         Has a patient had morphine   \n",
       "3  Why was tessalon perles ( benzonatate ) origin...   \n",
       "4             Is there history of use of allopurinol   \n",
       "\n",
       "                                             answers  \n",
       "0  {'answer_end': [2598], 'answer_start': [2564],...  \n",
       "1  {'answer_end': [541], 'answer_start': [532], '...  \n",
       "2  {'answer_end': [1342], 'answer_start': [1319],...  \n",
       "3  {'answer_end': [1007], 'answer_start': [988], ...  \n",
       "4  {'answer_end': [539], 'answer_start': [475], '...  "
      ]
     },
     "execution_count": 3,
     "metadata": {},
     "output_type": "execute_result"
    }
   ],
   "source": [
    "import pandas as pd\n",
    "from datasets import load_dataset\n",
    "\n",
    "import pandas as pd\n",
    "\n",
    "# Example local path: \"train-00000-of-00001.parquet\"\n",
    "# If it's in the same directory, you can do:\n",
    "df = pd.read_parquet(\"train-00000-of-00001.parquet\")\n",
    "\n",
    "df.head()\n",
    "\n",
    "\n",
    "\n",
    "\n",
    "\n",
    "\n",
    "\n",
    "\n"
   ]
  },
  {
   "cell_type": "code",
   "execution_count": 53,
   "metadata": {},
   "outputs": [
    {
     "data": {
      "text/html": [
       "<div>\n",
       "<style scoped>\n",
       "    .dataframe tbody tr th:only-of-type {\n",
       "        vertical-align: middle;\n",
       "    }\n",
       "\n",
       "    .dataframe tbody tr th {\n",
       "        vertical-align: top;\n",
       "    }\n",
       "\n",
       "    .dataframe thead th {\n",
       "        text-align: right;\n",
       "    }\n",
       "</style>\n",
       "<table border=\"1\" class=\"dataframe\">\n",
       "  <thead>\n",
       "    <tr style=\"text-align: right;\">\n",
       "      <th></th>\n",
       "      <th>patient_id</th>\n",
       "      <th>notes</th>\n",
       "    </tr>\n",
       "  </thead>\n",
       "  <tbody>\n",
       "    <tr>\n",
       "      <th>0</th>\n",
       "      <td>0</td>\n",
       "      <td>The patient was admitted on 5/5/2006 with a hi...</td>\n",
       "    </tr>\n",
       "    <tr>\n",
       "      <th>1</th>\n",
       "      <td>1</td>\n",
       "      <td>This 57-year-old female with a distant history...</td>\n",
       "    </tr>\n",
       "    <tr>\n",
       "      <th>2</th>\n",
       "      <td>2</td>\n",
       "      <td>An 81-year-old woman with Atrial Fibrillation ...</td>\n",
       "    </tr>\n",
       "    <tr>\n",
       "      <th>3</th>\n",
       "      <td>3</td>\n",
       "      <td>A 59 year-old woman with metastatic breast can...</td>\n",
       "    </tr>\n",
       "    <tr>\n",
       "      <th>4</th>\n",
       "      <td>4</td>\n",
       "      <td>Ms. Elter is an 83-year-old Spanish-speaking f...</td>\n",
       "    </tr>\n",
       "  </tbody>\n",
       "</table>\n",
       "</div>"
      ],
      "text/plain": [
       "   patient_id                                              notes\n",
       "0           0  The patient was admitted on 5/5/2006 with a hi...\n",
       "1           1  This 57-year-old female with a distant history...\n",
       "2           2  An 81-year-old woman with Atrial Fibrillation ...\n",
       "3           3  A 59 year-old woman with metastatic breast can...\n",
       "4           4  Ms. Elter is an 83-year-old Spanish-speaking f..."
      ]
     },
     "execution_count": 53,
     "metadata": {},
     "output_type": "execute_result"
    }
   ],
   "source": [
    "df.head()"
   ]
  },
  {
   "cell_type": "code",
   "execution_count": 62,
   "metadata": {},
   "outputs": [
    {
     "data": {
      "text/plain": [
       "\"The patient was admitted on 5/5/2006 with a history of mechanical fall, with the attending physician being Dr. Clemente Armand Bolstad, with a full code status and disposition of Rehabilitation. Medications on Admission included Amiodarone 100 QD, Colace 100 bid, lasix 40mg QD, Glyburide 5mg bid, Plaquenil 200mg bid, Isordil 20mg tid, Lisinopril 20mg QD, Coumadin 5mg 3dys/week, 2.5mg 4dys/week, Norvasc 10mg QD, Neurontin 300mg TID, with APAP prn. An override was added on 10/2/06 by Gerad E. Dancy, PA for POTENTIALLY SERIOUS INTERACTION: AMIODARONE HCL & WARFARIN with the reason for override being monitoring. The patient was rehydrated with IVF and PO's were encouraged, holding Glypizide while in house, Novolog sliding scale was started on 1/2, Low dose NPH 6 units BID was started on 1/2, bridged with lovenox and INR therapeutic 1/2 and restarted on home regimen of 5/2.5mg variable dose. Pain was controlled with TYLENOL (ACETAMINOPHEN) 650 MG PO Q4H PRN Pain, Headache. A CT pelvis showed a right adnexal cyst which will need further characterization by US and outpatient follow up. The patient has an extensive cardiac history and the fall is not likely related to a cardiac issue as it appears mechanical, with no syncope, chest pain, etc. She was diagnosed with an NSTEMI with a small TnI leak, likely demand related in the setting of hypovolemia and the fall. Enzymes trended down. She was dry on admission and rehydrated with IVF, PO's encouraged, and became euvolemic by 1/2. Her JVP was up to 12cm, although it was difficult to gauge her volume status due to TR. She had a prolonged QT on admission, on telemetry, of unclear etiology, possibly starvation. This was monitored on telemetry until ROMI and drugs that confound were avoided. The QTc resolved to low 500s and a DDD pacer was functioning with V-pacing at 60bpm. Additional medications included NATURAL TEARS (ARTIFICIAL TEARS) 2 DROP OU BID, COLACE (DOCUSATE SODIUM) 100 MG PO BID, PLAQUENIL SULFATE (HYDROXYCHLOROQUINE) 200 MG PO BID, ISORDIL (ISOSORBIDE DINITRATE) 20 MG PO TID, LISINOPRIL 20 MG PO DAILY HOLD IF: SBP <110, MILK OF MAGNESIA (MAGNESIUM HYDROXIDE) 30 MILLILITERS PO DAILY PRN Constipation, COUMADIN (WARFARIN SODIUM) 2.5 MG PO QPM, NORVASC (AMLODIPINE) 10 MG PO DAILY HOLD IF: SBP <110, NEURONTIN (GABAPENTIN) 300 MG PO TID, NEXIUM (ESOMEPRAZOLE) 20 MG PO DAILY, MAALOX-TABLETS QUICK DISSOLVE/CHEWABLE 1-2 TAB PO Q6H PRN Upset Stomach, DULCOLAX RECTAL (BISACODYL RECTAL) 10 MG PR DAILY PRN Constipation, CLOTRIMAZOLE 1% TOPICAL TOPICAL TP BID, GLYBURIDE 5 MG PO BID, LASIX (FUROSEMIDE) 20 MG PO DAILY, and corrected pt restarted on lasix 20 qd on d/c. A PT consult was obtained 3/21 and to follow daily at rehab. Labs showed Na 146, CK 3320, CKMB 12.9, Trop 0.23--->0.10, AST 107, Cr 1.2-->1.6. Pain was controlled with TYLENOL (ACETAMINOPHEN) 650 MG PO Q4H PRN Pain, Headache, rehydrated with IVF, po's encouraged, holding Glypizide while in house, Novolog sliding scale was started on 1/2, Low dose NPH 6 units BID was started on 1/2, bridged with lovenox and INR therapeutic 1/2 and restarted on home regimen of 5/2.5mg variable\""
      ]
     },
     "execution_count": 62,
     "metadata": {},
     "output_type": "execute_result"
    }
   ],
   "source": [
    "df[\"notes\"][0]"
   ]
  },
  {
   "cell_type": "code",
   "execution_count": 57,
   "metadata": {},
   "outputs": [],
   "source": [
    "import pandas as pd\n",
    "\n",
    "# Allow unlimited column width\n",
    "pd.set_option('display.max_colwidth', None)\n"
   ]
  },
  {
   "cell_type": "code",
   "execution_count": 61,
   "metadata": {},
   "outputs": [
    {
     "data": {
      "text/html": [
       "\n",
       "<style>\n",
       "    .dataframe td {\n",
       "        white-space: pre-wrap;\n",
       "        word-wrap: break-word;\n",
       "    }\n",
       "</style>\n"
      ],
      "text/plain": [
       "<IPython.core.display.HTML object>"
      ]
     },
     "metadata": {},
     "output_type": "display_data"
    }
   ],
   "source": [
    "from IPython.display import display, HTML\n",
    "\n",
    "# Set CSS to wrap text within DataFrame cells\n",
    "display(HTML(\"\"\"\n",
    "<style>\n",
    "    .dataframe td {\n",
    "        white-space: pre-wrap;\n",
    "        word-wrap: break-word;\n",
    "    }\n",
    "</style>\n",
    "\"\"\"))\n",
    "\n",
    "\n",
    "# Set the display width (adjust as needed for your console or notebook)\n",
    "pd.set_option('display.width', 80)\n",
    "\n",
    "# If set to False, prevents pandas from expanding to the full console width\n",
    "pd.set_option('display.expand_frame_repr', False)\n"
   ]
  },
  {
   "cell_type": "code",
   "execution_count": 64,
   "metadata": {},
   "outputs": [
    {
     "data": {
      "text/plain": [
       "\"The patient was admitted on 5/5/2006 with a history of mechanical fall, with the attending physician being Dr. Clemente Armand Bolstad, with a full code status and disposition of Rehabilitation. Medications on Admission included Amiodarone 100 QD, Colace 100 bid, lasix 40mg QD, Glyburide 5mg bid, Plaquenil 200mg bid, Isordil 20mg tid, Lisinopril 20mg QD, Coumadin 5mg 3dys/week, 2.5mg 4dys/week, Norvasc 10mg QD, Neurontin 300mg TID, with APAP prn. An override was added on 10/2/06 by Gerad E. Dancy, PA for POTENTIALLY SERIOUS INTERACTION: AMIODARONE HCL & WARFARIN with the reason for override being monitoring. The patient was rehydrated with IVF and PO's were encouraged, holding Glypizide while in house, Novolog sliding scale was started on 1/2, Low dose NPH 6 units BID was started on 1/2, bridged with lovenox and INR therapeutic 1/2 and restarted on home regimen of 5/2.5mg variable dose. Pain was controlled with TYLENOL (ACETAMINOPHEN) 650 MG PO Q4H PRN Pain, Headache. A CT pelvis showed a right adnexal cyst which will need further characterization by US and outpatient follow up. The patient has an extensive cardiac history and the fall is not likely related to a cardiac issue as it appears mechanical, with no syncope, chest pain, etc. She was diagnosed with an NSTEMI with a small TnI leak, likely demand related in the setting of hypovolemia and the fall. Enzymes trended down. She was dry on admission and rehydrated with IVF, PO's encouraged, and became euvolemic by 1/2. Her JVP was up to 12cm, although it was difficult to gauge her volume status due to TR. She had a prolonged QT on admission, on telemetry, of unclear etiology, possibly starvation. This was monitored on telemetry until ROMI and drugs that confound were avoided. The QTc resolved to low 500s and a DDD pacer was functioning with V-pacing at 60bpm. Additional medications included NATURAL TEARS (ARTIFICIAL TEARS) 2 DROP OU BID, COLACE (DOCUSATE SODIUM) 100 MG PO BID, PLAQUENIL SULFATE (HYDROXYCHLOROQUINE) 200 MG PO BID, ISORDIL (ISOSORBIDE DINITRATE) 20 MG PO TID, LISINOPRIL 20 MG PO DAILY HOLD IF: SBP <110, MILK OF MAGNESIA (MAGNESIUM HYDROXIDE) 30 MILLILITERS PO DAILY PRN Constipation, COUMADIN (WARFARIN SODIUM) 2.5 MG PO QPM, NORVASC (AMLODIPINE) 10 MG PO DAILY HOLD IF: SBP <110, NEURONTIN (GABAPENTIN) 300 MG PO TID, NEXIUM (ESOMEPRAZOLE) 20 MG PO DAILY, MAALOX-TABLETS QUICK DISSOLVE/CHEWABLE 1-2 TAB PO Q6H PRN Upset Stomach, DULCOLAX RECTAL (BISACODYL RECTAL) 10 MG PR DAILY PRN Constipation, CLOTRIMAZOLE 1% TOPICAL TOPICAL TP BID, GLYBURIDE 5 MG PO BID, LASIX (FUROSEMIDE) 20 MG PO DAILY, and corrected pt restarted on lasix 20 qd on d/c. A PT consult was obtained 3/21 and to follow daily at rehab. Labs showed Na 146, CK 3320, CKMB 12.9, Trop 0.23--->0.10, AST 107, Cr 1.2-->1.6. Pain was controlled with TYLENOL (ACETAMINOPHEN) 650 MG PO Q4H PRN Pain, Headache, rehydrated with IVF, po's encouraged, holding Glypizide while in house, Novolog sliding scale was started on 1/2, Low dose NPH 6 units BID was started on 1/2, bridged with lovenox and INR therapeutic 1/2 and restarted on home regimen of 5/2.5mg variable\""
      ]
     },
     "execution_count": 64,
     "metadata": {},
     "output_type": "execute_result"
    }
   ],
   "source": [
    "df[\"notes\"][0]"
   ]
  },
  {
   "cell_type": "code",
   "execution_count": 65,
   "metadata": {},
   "outputs": [
    {
     "name": "stdout",
     "output_type": "stream",
     "text": [
      "The patient was admitted on 5/5/2006 with a history of mechanical fall, with the\n",
      " attending physician being Dr. Clemente Armand Bolstad, with a full code status \n",
      "and disposition of Rehabilitation. Medications on Admission included Amiodarone \n",
      "100 QD, Colace 100 bid, lasix 40mg QD, Glyburide 5mg bid, Plaquenil 200mg bid, I\n",
      "sordil 20mg tid, Lisinopril 20mg QD, Coumadin 5mg 3dys/week, 2.5mg 4dys/week, No\n",
      "rvasc 10mg QD, Neurontin 300mg TID, with APAP prn. An override was added on 10/2\n",
      "/06 by Gerad E. Dancy, PA for POTENTIALLY SERIOUS INTERACTION: AMIODARONE HCL & \n",
      "WARFARIN with the reason for override being monitoring. The patient was rehydrat\n",
      "ed with IVF and PO's were encouraged, holding Glypizide while in house, Novolog \n",
      "sliding scale was started on 1/2, Low dose NPH 6 units BID was started on 1/2, b\n",
      "ridged with lovenox and INR therapeutic 1/2 and restarted on home regimen of 5/2\n",
      ".5mg variable dose. Pain was controlled with TYLENOL (ACETAMINOPHEN) 650 MG PO Q\n",
      "4H PRN Pain, Headache. A CT pelvis showed a right adnexal cyst which will need f\n",
      "urther characterization by US and outpatient follow up. The patient has an exten\n",
      "sive cardiac history and the fall is not likely related to a cardiac issue as it\n",
      " appears mechanical, with no syncope, chest pain, etc. She was diagnosed with an\n",
      " NSTEMI with a small TnI leak, likely demand related in the setting of hypovolem\n",
      "ia and the fall. Enzymes trended down. She was dry on admission and rehydrated w\n",
      "ith IVF, PO's encouraged, and became euvolemic by 1/2. Her JVP was up to 12cm, a\n",
      "lthough it was difficult to gauge her volume status due to TR. She had a prolong\n",
      "ed QT on admission, on telemetry, of unclear etiology, possibly starvation. This\n",
      " was monitored on telemetry until ROMI and drugs that confound were avoided. The\n",
      " QTc resolved to low 500s and a DDD pacer was functioning with V-pacing at 60bpm\n",
      ". Additional medications included NATURAL TEARS (ARTIFICIAL TEARS) 2 DROP OU BID\n",
      ", COLACE (DOCUSATE SODIUM) 100 MG PO BID, PLAQUENIL SULFATE (HYDROXYCHLOROQUINE)\n",
      " 200 MG PO BID, ISORDIL (ISOSORBIDE DINITRATE) 20 MG PO TID, LISINOPRIL 20 MG PO\n",
      " DAILY HOLD IF: SBP <110, MILK OF MAGNESIA (MAGNESIUM HYDROXIDE) 30 MILLILITERS \n",
      "PO DAILY PRN Constipation, COUMADIN (WARFARIN SODIUM) 2.5 MG PO QPM, NORVASC (AM\n",
      "LODIPINE) 10 MG PO DAILY HOLD IF: SBP <110, NEURONTIN (GABAPENTIN) 300 MG PO TID\n",
      ", NEXIUM (ESOMEPRAZOLE) 20 MG PO DAILY, MAALOX-TABLETS QUICK DISSOLVE/CHEWABLE 1\n",
      "-2 TAB PO Q6H PRN Upset Stomach, DULCOLAX RECTAL (BISACODYL RECTAL) 10 MG PR DAI\n",
      "LY PRN Constipation, CLOTRIMAZOLE 1% TOPICAL TOPICAL TP BID, GLYBURIDE 5 MG PO B\n",
      "ID, LASIX (FUROSEMIDE) 20 MG PO DAILY, and corrected pt restarted on lasix 20 qd\n",
      " on d/c. A PT consult was obtained 3/21 and to follow daily at rehab. Labs showe\n",
      "d Na 146, CK 3320, CKMB 12.9, Trop 0.23--->0.10, AST 107, Cr 1.2-->1.6. Pain was\n",
      " controlled with TYLENOL (ACETAMINOPHEN) 650 MG PO Q4H PRN Pain, Headache, rehyd\n",
      "rated with IVF, po's encouraged, holding Glypizide while in house, Novolog slidi\n",
      "ng scale was started on 1/2, Low dose NPH 6 units BID was started on 1/2, bridge\n",
      "d with lovenox and INR therapeutic 1/2 and restarted on home regimen of 5/2.5mg \n",
      "variable\n"
     ]
    }
   ],
   "source": [
    "text = df['notes'].iloc[0]\n",
    "print(\"\\n\".join(text[i:i+80] for i in range(0, len(text), 80)))\n"
   ]
  },
  {
   "cell_type": "code",
   "execution_count": 6,
   "metadata": {},
   "outputs": [],
   "source": [
    "df_patient_notes = df[\"context\"]"
   ]
  },
  {
   "cell_type": "code",
   "execution_count": 7,
   "metadata": {},
   "outputs": [
    {
     "data": {
      "text/plain": [
       "(130956,)"
      ]
     },
     "execution_count": 7,
     "metadata": {},
     "output_type": "execute_result"
    }
   ],
   "source": [
    "df_patient_notes.shape"
   ]
  },
  {
   "cell_type": "code",
   "execution_count": 8,
   "metadata": {},
   "outputs": [],
   "source": [
    "df_patient_notes = df_patient_notes.iloc[:50]"
   ]
  },
  {
   "cell_type": "code",
   "execution_count": 52,
   "metadata": {},
   "outputs": [
    {
     "data": {
      "text/plain": [
       "0     The patient was admitted on 5/5/2006 with a hi...\n",
       "1     This 57-year-old female with a distant history...\n",
       "2     An 81-year-old woman with Atrial Fibrillation ...\n",
       "3     A 59 year-old woman with metastatic breast can...\n",
       "4     Ms. Elter is an 83-year-old Spanish-speaking f...\n",
       "5     This 62-year-old white male with insulin depen...\n",
       "6     Patient Alequin, Garland, a 57-year-old female...\n",
       "7     This is a 70-year-old woman with ischemic card...\n",
       "8     Justin Eans, a 56 year old patient with a hist...\n",
       "9     GVERRERO , STAN O 346-21-49-8, a 74 yo woman i...\n",
       "10    Stansbury Ellsworth, a 59-year-old female with...\n",
       "11    This 90+-year-old male with a complex past med...\n",
       "12    Glen Cooperwood, a 69 year old male with ische...\n",
       "13    The patient is an 83-year-old female with a hi...\n",
       "14    This 62-year-old white male with insulin depen...\n",
       "15    GVERRERO , STAN O 346-21-49-8, a 74 yo woman i...\n",
       "16    This 70-year-old female with CHF, coronary art...\n",
       "17    The patient had continued to remain stable fro...\n",
       "18    A 59 year-old woman with metastatic breast can...\n",
       "19    Faustino Decicco was admitted to the CAR servi...\n",
       "20    The patient was admitted on 4/20/2006 with an ...\n",
       "21    Eli Frigge (047-45-81-2) was admitted with lig...\n",
       "22    Randy Szalay is a 60 year old female with DMII...\n",
       "23    A 57 year old woman with multiple cardiac risk...\n",
       "24    Patient Omar J. Coolbaugh, a 71-year-old femal...\n",
       "25    Mr. Wolfinbarger is a 55 year old male with Co...\n",
       "26    The patient is an 83-year-old man with a histo...\n",
       "27    This is a 72 year old black female with a hist...\n",
       "28    This 70-year-old woman with a complex medical ...\n",
       "29    Mr. Neilsen is a 59-year-old morbidly obese ma...\n",
       "30    The patient was admitted on 4/20/2006 with an ...\n",
       "31    Stettler, Hal 223-66-98-9, an 81 y.o. woman, w...\n",
       "32    Ms. Dozois is a 64-year-old female admitted to...\n",
       "33    The patient is a 58-year-old female with chron...\n",
       "34    The patient is a 75-year-old female with a his...\n",
       "35    Patient Mariano Librizzi was admitted on 4/21/...\n",
       "36    Patient Isaac Vanover, Jr., a 44-year-old man ...\n",
       "37    Ms. Hora is a 45 year old woman with hypertens...\n",
       "38    Patient KOMLOS, COLEMAN 223-66-98-9 was admitt...\n",
       "39    The patient is a 70-year-old woman with a hist...\n",
       "40    Ms. Watterson, a 75 year old female with a his...\n",
       "41    The patient is a 71-year-old male with a histo...\n",
       "42    76 year-old male with significant cardiac hist...\n",
       "43    The patient is an 83-year-old man with a histo...\n",
       "44    This 82-year-old RHM with a history of HTN, DM...\n",
       "45    RECORD #159637 was a 45-year-old male with mul...\n",
       "46    A 74-year-old female with pulmonary sarcoid, C...\n",
       "47    This is a 63-year-old female who presented wit...\n",
       "48    The patient is a 76-year-old female with a his...\n",
       "49    A 58 year old woman with a history of CABG tim...\n",
       "Name: context, dtype: object"
      ]
     },
     "execution_count": 52,
     "metadata": {},
     "output_type": "execute_result"
    }
   ],
   "source": [
    "df_patient_notes"
   ]
  },
  {
   "cell_type": "code",
   "execution_count": 49,
   "metadata": {},
   "outputs": [],
   "source": [
    "\n",
    "\n",
    "# Set maximum number of rows displayed\n",
    "pd.set_option('display.max_rows', 100)  # change 100 to your desired number\n",
    "\n",
    "# Set maximum number of columns displayed\n",
    "pd.set_option('display.max_columns', 50)  # change 50 to your desired number\n"
   ]
  },
  {
   "cell_type": "code",
   "execution_count": 50,
   "metadata": {},
   "outputs": [
    {
     "data": {
      "text/plain": [
       "\"The patient was admitted on 5/5/2006 with a history of mechanical fall, with the attending physician being Dr. Clemente Armand Bolstad, with a full code status and disposition of Rehabilitation. Medications on Admission included Amiodarone 100 QD, Colace 100 bid, lasix 40mg QD, Glyburide 5mg bid, Plaquenil 200mg bid, Isordil 20mg tid, Lisinopril 20mg QD, Coumadin 5mg 3dys/week, 2.5mg 4dys/week, Norvasc 10mg QD, Neurontin 300mg TID, with APAP prn. An override was added on 10/2/06 by Gerad E. Dancy, PA for POTENTIALLY SERIOUS INTERACTION: AMIODARONE HCL & WARFARIN with the reason for override being monitoring. The patient was rehydrated with IVF and PO's were encouraged, holding Glypizide while in house, Novolog sliding scale was started on 1/2, Low dose NPH 6 units BID was started on 1/2, bridged with lovenox and INR therapeutic 1/2 and restarted on home regimen of 5/2.5mg variable dose. Pain was controlled with TYLENOL (ACETAMINOPHEN) 650 MG PO Q4H PRN Pain, Headache. A CT pelvis showed a right adnexal cyst which will need further characterization by US and outpatient follow up. The patient has an extensive cardiac history and the fall is not likely related to a cardiac issue as it appears mechanical, with no syncope, chest pain, etc. She was diagnosed with an NSTEMI with a small TnI leak, likely demand related in the setting of hypovolemia and the fall. Enzymes trended down. She was dry on admission and rehydrated with IVF, PO's encouraged, and became euvolemic by 1/2. Her JVP was up to 12cm, although it was difficult to gauge her volume status due to TR. She had a prolonged QT on admission, on telemetry, of unclear etiology, possibly starvation. This was monitored on telemetry until ROMI and drugs that confound were avoided. The QTc resolved to low 500s and a DDD pacer was functioning with V-pacing at 60bpm. Additional medications included NATURAL TEARS (ARTIFICIAL TEARS) 2 DROP OU BID, COLACE (DOCUSATE SODIUM) 100 MG PO BID, PLAQUENIL SULFATE (HYDROXYCHLOROQUINE) 200 MG PO BID, ISORDIL (ISOSORBIDE DINITRATE) 20 MG PO TID, LISINOPRIL 20 MG PO DAILY HOLD IF: SBP <110, MILK OF MAGNESIA (MAGNESIUM HYDROXIDE) 30 MILLILITERS PO DAILY PRN Constipation, COUMADIN (WARFARIN SODIUM) 2.5 MG PO QPM, NORVASC (AMLODIPINE) 10 MG PO DAILY HOLD IF: SBP <110, NEURONTIN (GABAPENTIN) 300 MG PO TID, NEXIUM (ESOMEPRAZOLE) 20 MG PO DAILY, MAALOX-TABLETS QUICK DISSOLVE/CHEWABLE 1-2 TAB PO Q6H PRN Upset Stomach, DULCOLAX RECTAL (BISACODYL RECTAL) 10 MG PR DAILY PRN Constipation, CLOTRIMAZOLE 1% TOPICAL TOPICAL TP BID, GLYBURIDE 5 MG PO BID, LASIX (FUROSEMIDE) 20 MG PO DAILY, and corrected pt restarted on lasix 20 qd on d/c. A PT consult was obtained 3/21 and to follow daily at rehab. Labs showed Na 146, CK 3320, CKMB 12.9, Trop 0.23--->0.10, AST 107, Cr 1.2-->1.6. Pain was controlled with TYLENOL (ACETAMINOPHEN) 650 MG PO Q4H PRN Pain, Headache, rehydrated with IVF, po's encouraged, holding Glypizide while in house, Novolog sliding scale was started on 1/2, Low dose NPH 6 units BID was started on 1/2, bridged with lovenox and INR therapeutic 1/2 and restarted on home regimen of 5/2.5mg variable\""
      ]
     },
     "execution_count": 50,
     "metadata": {},
     "output_type": "execute_result"
    }
   ],
   "source": [
    "df_patient_notes[0]"
   ]
  },
  {
   "cell_type": "code",
   "execution_count": 10,
   "metadata": {},
   "outputs": [],
   "source": [
    "df = df_patient_notes.reset_index()"
   ]
  },
  {
   "cell_type": "code",
   "execution_count": 11,
   "metadata": {},
   "outputs": [],
   "source": [
    "df.rename(columns={\"index\": \"patient_id\", \"context\": \"notes\"}, inplace=True)"
   ]
  },
  {
   "cell_type": "code",
   "execution_count": 12,
   "metadata": {},
   "outputs": [
    {
     "data": {
      "text/html": [
       "<div>\n",
       "<style scoped>\n",
       "    .dataframe tbody tr th:only-of-type {\n",
       "        vertical-align: middle;\n",
       "    }\n",
       "\n",
       "    .dataframe tbody tr th {\n",
       "        vertical-align: top;\n",
       "    }\n",
       "\n",
       "    .dataframe thead th {\n",
       "        text-align: right;\n",
       "    }\n",
       "</style>\n",
       "<table border=\"1\" class=\"dataframe\">\n",
       "  <thead>\n",
       "    <tr style=\"text-align: right;\">\n",
       "      <th></th>\n",
       "      <th>patient_id</th>\n",
       "      <th>notes</th>\n",
       "    </tr>\n",
       "  </thead>\n",
       "  <tbody>\n",
       "    <tr>\n",
       "      <th>0</th>\n",
       "      <td>0</td>\n",
       "      <td>The patient was admitted on 5/5/2006 with a hi...</td>\n",
       "    </tr>\n",
       "    <tr>\n",
       "      <th>1</th>\n",
       "      <td>1</td>\n",
       "      <td>This 57-year-old female with a distant history...</td>\n",
       "    </tr>\n",
       "    <tr>\n",
       "      <th>2</th>\n",
       "      <td>2</td>\n",
       "      <td>An 81-year-old woman with Atrial Fibrillation ...</td>\n",
       "    </tr>\n",
       "    <tr>\n",
       "      <th>3</th>\n",
       "      <td>3</td>\n",
       "      <td>A 59 year-old woman with metastatic breast can...</td>\n",
       "    </tr>\n",
       "    <tr>\n",
       "      <th>4</th>\n",
       "      <td>4</td>\n",
       "      <td>Ms. Elter is an 83-year-old Spanish-speaking f...</td>\n",
       "    </tr>\n",
       "  </tbody>\n",
       "</table>\n",
       "</div>"
      ],
      "text/plain": [
       "   patient_id                                              notes\n",
       "0           0  The patient was admitted on 5/5/2006 with a hi...\n",
       "1           1  This 57-year-old female with a distant history...\n",
       "2           2  An 81-year-old woman with Atrial Fibrillation ...\n",
       "3           3  A 59 year-old woman with metastatic breast can...\n",
       "4           4  Ms. Elter is an 83-year-old Spanish-speaking f..."
      ]
     },
     "execution_count": 12,
     "metadata": {},
     "output_type": "execute_result"
    }
   ],
   "source": [
    "df.head()"
   ]
  },
  {
   "cell_type": "code",
   "execution_count": 13,
   "metadata": {},
   "outputs": [
    {
     "data": {
      "text/plain": [
       "(50, 2)"
      ]
     },
     "execution_count": 13,
     "metadata": {},
     "output_type": "execute_result"
    }
   ],
   "source": [
    "df.shape"
   ]
  },
  {
   "cell_type": "markdown",
   "metadata": {},
   "source": [
    "## Indexing the documents with chromaDB vector database"
   ]
  },
  {
   "cell_type": "code",
   "execution_count": 14,
   "metadata": {},
   "outputs": [],
   "source": [
    "import chromadb\n",
    "import openai\n",
    "\n",
    "# Initialize Chroma client\n",
    "client = chromadb.Client()\n",
    "\n",
    "# Check if the collection already exists\n",
    "if \"patient_notes\" in [c.name for c in client.list_collections()]:\n",
    "    collection = client.get_collection(\"patient_notes\")  # Retrieve the existing collection\n",
    "else:\n",
    "    collection = client.create_collection(name=\"patient_notes\")  # Create a new collection\n",
    "\n",
    "\n",
    "# Prepare the notes column for embeddings\n",
    "embeddings = []\n",
    "ids = []\n",
    "metadatas = []\n",
    "\n",
    "for i, row in df.iterrows():\n",
    "    # Generate embedding for the 'notes' column\n",
    "    embedding = openai.Embedding.create(input=row['notes'], model=\"text-embedding-ada-002\")['data'][0]['embedding']\n",
    "    embeddings.append(embedding)\n",
    "    ids.append(str(row['patient_id']))  # Assuming 'patient_id' column exists\n",
    "    metadatas.append({\"patient_id\": row['patient_id']})\n",
    "\n",
    "# Add the embeddings to ChromaDB\n",
    "collection.add(\n",
    "    embeddings=embeddings,\n",
    "    documents=df['notes'].tolist(),  # Use 'notes' instead of 'context'\n",
    "    ids=ids,\n",
    "    metadatas=metadatas\n",
    ")\n",
    "\n",
    "\n"
   ]
  },
  {
   "cell_type": "code",
   "execution_count": 29,
   "metadata": {},
   "outputs": [
    {
     "data": {
      "text/plain": [
       "{'patient_id': 0}"
      ]
     },
     "execution_count": 29,
     "metadata": {},
     "output_type": "execute_result"
    }
   ],
   "source": [
    "metadatas[0]"
   ]
  },
  {
   "cell_type": "markdown",
   "metadata": {},
   "source": [
    "## Building RAG"
   ]
  },
  {
   "cell_type": "code",
   "execution_count": 25,
   "metadata": {},
   "outputs": [],
   "source": [
    "# Retriever Function\n",
    "def retrieve_notes(query: str, patient_id: str = None, top_k: int = 3):\n",
    "    \"\"\"\n",
    "    Retrieve relevant notes from ChromaDB based on the query.\n",
    "    If patient_id is provided, restrict the query to that patient's note.\n",
    "    \"\"\"\n",
    "    if patient_id:\n",
    "        # Retrieve the specific patient's note\n",
    "        results = collection.get(\n",
    "            where={\"patient_id\": patient_id},\n",
    "            include=[\"documents\", \"metadatas\"]\n",
    "        )\n",
    "        if results['documents']:\n",
    "            return results['documents'][0]  # Return the single note\n",
    "        else:\n",
    "            return None  # No note found for this patient\n",
    "    else:\n",
    "        # General query across all patient notes\n",
    "        # Generate embedding for the query\n",
    "        query_embedding = openai.Embedding.create(\n",
    "            input=query,\n",
    "            model=\"text-embedding-ada-002\"\n",
    "        )['data'][0]['embedding']\n",
    "        \n",
    "        # Perform similarity search\n",
    "        results = collection.query(\n",
    "            query_embeddings=[query_embedding],\n",
    "            n_results=top_k,\n",
    "            include=[\"documents\", \"metadatas\"]\n",
    "        )\n",
    "        \n",
    "        # Flatten the results\n",
    "        retrieved_notes = []\n",
    "        for doc, meta in zip(results['documents'][0], results['metadatas'][0]):\n",
    "            retrieved_notes.append({\n",
    "                \"patient_id\": meta['patient_id'],\n",
    "                \"note\": doc\n",
    "            })\n",
    "        return retrieved_notes\n",
    "\n"
   ]
  },
  {
   "cell_type": "code",
   "execution_count": 19,
   "metadata": {},
   "outputs": [],
   "source": [
    "\n",
    "# Prompt Generation Function\n",
    "def generate_prompt(query: str, retrieved_notes):\n",
    "    \"\"\"\n",
    "    Generate a prompt for the language model based on retrieved notes.\n",
    "    \"\"\"\n",
    "    if isinstance(retrieved_notes, list):\n",
    "        # General query with multiple notes\n",
    "        context = \"\\n\\n\".join([f\"Patient ID {item['patient_id']}: {item['note']}\" for item in retrieved_notes])\n",
    "        prompt = f\"\"\"\n",
    "        You are a helpful medical assistant. The following are patient notes that may contain relevant information:\n",
    "\n",
    "        {context}\n",
    "\n",
    "        Based on the above notes, please answer the following question:\n",
    "        \"{query}\"\n",
    "        \"\"\"\n",
    "    else:\n",
    "        # Patient-specific query with a single note\n",
    "        context = retrieved_notes\n",
    "        prompt = f\"\"\"\n",
    "        You are a helpful medical assistant. The following is the patient's note:\n",
    "\n",
    "        {context}\n",
    "\n",
    "        Based on the above note, please answer the following question:\n",
    "        \"{query}\"\n",
    "        \"\"\"\n",
    "    return prompt"
   ]
  },
  {
   "cell_type": "code",
   "execution_count": 20,
   "metadata": {},
   "outputs": [],
   "source": [
    "def get_answer(prompt: str):\n",
    "    \"\"\"\n",
    "    Use OpenAI GPT to generate an answer based on the provided prompt.\n",
    "    \"\"\"\n",
    "    response = openai.ChatCompletion.create(\n",
    "        model=\"gpt-3.5-turbo\",\n",
    "        messages=[\n",
    "            {\"role\": \"system\", \"content\": \"You are a helpful medical assistant.\"},\n",
    "            {\"role\": \"user\", \"content\": prompt}\n",
    "        ],\n",
    "        temperature=0.3,\n",
    "        max_tokens=300\n",
    "    )\n",
    "    return response['choices'][0]['message']['content'].strip()"
   ]
  },
  {
   "cell_type": "code",
   "execution_count": 21,
   "metadata": {},
   "outputs": [],
   "source": [
    "# Language Model Query Function\n",
    "def get_answer(prompt: str):\n",
    "    \"\"\"\n",
    "    Use OpenAI GPT to generate an answer based on the provided prompt.\n",
    "    \"\"\"\n",
    "    response = openai.ChatCompletion.create(\n",
    "        model=\"gpt-3.5-turbo\",\n",
    "        messages=[\n",
    "            {\"role\": \"system\", \"content\": \"You are a helpful medical assistant.\"},\n",
    "            {\"role\": \"user\", \"content\": prompt}\n",
    "        ],\n",
    "        temperature=0.3,\n",
    "        max_tokens=300\n",
    "    )\n",
    "    return response['choices'][0]['message']['content'].strip()"
   ]
  },
  {
   "cell_type": "code",
   "execution_count": 22,
   "metadata": {},
   "outputs": [],
   "source": [
    "# RAG Pipeline Function\n",
    "def ask_question(query: str, patient_id: str = None, top_k: int = 3):\n",
    "    \"\"\"\n",
    "    RAG pipeline:\n",
    "    1. Retrieve relevant notes from ChromaDB.\n",
    "    2. Generate a prompt with the retrieved notes.\n",
    "    3. Generate an answer using the language model.\n",
    "    \n",
    "    Parameters:\n",
    "    - query (str): The question to ask.\n",
    "    - patient_id (str, optional): The patient ID to restrict the query. Defaults to None.\n",
    "    - top_k (int, optional): Number of top results to retrieve for general queries. Defaults to 3.\n",
    "    \n",
    "    Returns:\n",
    "    - str: The answer generated by the language model.\n",
    "    \"\"\"\n",
    "    # Step 1: Retrieve notes\n",
    "    retrieved = retrieve_notes(query, patient_id, top_k)\n",
    "    \n",
    "    if not retrieved:\n",
    "        if patient_id:\n",
    "            return f\"No notes found for patient_id: {patient_id}\"\n",
    "        else:\n",
    "            return \"No relevant notes found for this query.\"\n",
    "    \n",
    "    # Step 2: Generate prompt\n",
    "    prompt = generate_prompt(query, retrieved)\n",
    "    \n",
    "    # Step 3: Get answer\n",
    "    answer = get_answer(prompt)\n",
    "    \n",
    "    return answer"
   ]
  },
  {
   "cell_type": "code",
   "execution_count": 46,
   "metadata": {},
   "outputs": [
    {
     "name": "stdout",
     "output_type": "stream",
     "text": [
      "Response for Patient ID 10:\n",
      "Summary of the Patient:\n",
      "- Stansbury Ellsworth is a 59-year-old female who was admitted with atypical chest pain.\n",
      "- She has a history of NIDDM (Non-Insulin Dependent Diabetes Mellitus), GERD (Gastroesophageal Reflux Disease), HTN (Hypertension), Depression, and known CAD (Coronary Artery Disease) s/p circumflex stent in 2002.\n",
      "\n",
      "History of Medications and Diseases:\n",
      "- Age: 59 years\n",
      "- Gender: Female\n",
      "- Diseases:\n",
      "  - NIDDM (Non-Insulin Dependent Diabetes Mellitus)\n",
      "  - GERD (Gastroesophageal Reflux Disease)\n",
      "  - HTN (Hypertension)\n",
      "  - Depression\n",
      "  - Known CAD (Coronary Artery Disease) s/p circumflex stent in 2002\n",
      "- Medications:\n",
      "  - CLONAZEPAM 0.5 MG PO QD\n",
      "  - LISINOPRIL 5 MG PO QD\n",
      "  - POTASSIUM CHLORIDE IV\n",
      "  - POTASSIUM CHLORIDE PO\n",
      "  - MOM (MAGNESIUM HYDROXIDE) 30 MILLILITERS PO QD\n",
      "  - MAALOX-TABLETS QUICK DISSOLVE/CHEWABLE 1-2 TAB PO Q6H\n",
      "  - PROTONIX (PANTOPRAZ\n",
      "\n"
     ]
    }
   ],
   "source": [
    "# Example Usage\n",
    "if __name__ == \"__main__\":\n",
    "        # Example 1: Patient-Specific Query\n",
    "    query1 = \"First give me a short summary of the patient. Then what has been the history of medications and diseases of this patient? Give in bullet points, incldue age, gender etc.\"\n",
    "    patient_id1 = 10 # Replace with an actual patient_id as a string\n",
    "    response1 = ask_question(query=query1, patient_id=patient_id1)\n",
    "    print(f\"Response for Patient ID {patient_id1}:\\n{response1}\\n\")\n",
    "\n",
    "\n"
   ]
  },
  {
   "cell_type": "code",
   "execution_count": 39,
   "metadata": {},
   "outputs": [
    {
     "name": "stdout",
     "output_type": "stream",
     "text": [
      "Response for General Query:\n",
      "Based on the patient notes provided, the most common type of cancer mentioned is breast cancer.\n",
      "\n"
     ]
    }
   ],
   "source": [
    "if __name__ == \"__main__\":\n",
    "\n",
    "    \n",
    "    # Example 2: General Query Across All Patients\n",
    "    query2 = \"whats the most common type of cancer?\"\n",
    "    response2 = ask_question(query=query2, top_k=23)\n",
    "    print(f\"Response for General Query:\\n{response2}\\n\")"
   ]
  },
  {
   "cell_type": "code",
   "execution_count": null,
   "metadata": {},
   "outputs": [],
   "source": []
  }
 ],
 "metadata": {
  "kernelspec": {
   "display_name": "myvenv",
   "language": "python",
   "name": "python3"
  },
  "language_info": {
   "codemirror_mode": {
    "name": "ipython",
    "version": 3
   },
   "file_extension": ".py",
   "mimetype": "text/x-python",
   "name": "python",
   "nbconvert_exporter": "python",
   "pygments_lexer": "ipython3",
   "version": "3.10.11"
  }
 },
 "nbformat": 4,
 "nbformat_minor": 2
}
